{
 "cells": [
  {
   "cell_type": "code",
   "execution_count": 9,
   "metadata": {},
   "outputs": [
    {
     "name": "stdout",
     "output_type": "stream",
     "text": [
      "16\n"
     ]
    }
   ],
   "source": [
    "from fastdtw import fastdtw\n",
    "import numpy as np\n",
    "\n",
    "def dtw(x, y):\n",
    "    distance, path = fastdtw(x, y)\n",
    "    return distance\n",
    "\n",
    "\n",
    "def paa(x, w):\n",
    "    #w is the number of segments\n",
    "    #first calculate the length of the time series\n",
    "    n = len(x)\n",
    "    #now calculate the length of each segment\n",
    "    step = n/w\n",
    "    #now calculate the paa\n",
    "    paa = []\n",
    "    for i in range(w):\n",
    "        paa.append(np.mean(x[i:i+int(step)]))\n",
    "        \n",
    "    return paa\n",
    "\n",
    "x = [1,2,3,4,5,6,7,8,9,10,11,12,13,14,15,16.12,34,11,12,1,2,3,4,5,6,7,8,9,10,11,12,13,14,15]\n",
    "w = 16\n",
    "print(len(paa(x,w)))\n",
    "\n",
    "\n",
    "\n",
    "\n"
   ]
  },
  {
   "cell_type": "code",
   "execution_count": 1,
   "metadata": {},
   "outputs": [
    {
     "name": "stdout",
     "output_type": "stream",
     "text": [
      "True\n",
      "{'test2': {'mappings': {'properties': {'dense_vector_field': {'type': 'dense_vector', 'dims': 16, 'index': True, 'similarity': 'cosine'}}}}}\n"
     ]
    }
   ],
   "source": [
    "from elasticsearch import Elasticsearch\n",
    "from elastic import es\n",
    "\n",
    "index_settings = {\n",
    "    'settings': {\n",
    "        'number_of_shards': 1,\n",
    "        'number_of_replicas': 0  # Adjust as needed\n",
    "    },\n",
    "    'mappings': {\n",
    "        'properties': {\n",
    "            'dense_vector_field': {\n",
    "                'type': 'dense_vector',\n",
    "                'dims': 16  # Number of dimensions in the vector\n",
    "            },\n",
    "            # Add other fields as needed\n",
    "        }\n",
    "    }\n",
    "}\n",
    "\n",
    "print(es.ping())\n",
    "\n",
    "es.indices.create(index=\"test2\", body=index_settings)\n",
    "mappings = es.indices.get_mapping(index=\"test2\")\n",
    "print(mappings)"
   ]
  },
  {
   "cell_type": "code",
   "execution_count": 62,
   "metadata": {},
   "outputs": [
    {
     "name": "stderr",
     "output_type": "stream",
     "text": [
      "c:\\Users\\soumil\\AppData\\Local\\Programs\\Python\\Python310\\lib\\site-packages\\numpy\\core\\fromnumeric.py:3432: RuntimeWarning: Mean of empty slice.\n",
      "  return _methods._mean(a, axis=axis, dtype=dtype,\n",
      "c:\\Users\\soumil\\AppData\\Local\\Programs\\Python\\Python310\\lib\\site-packages\\numpy\\core\\_methods.py:190: RuntimeWarning: invalid value encountered in double_scalars\n",
      "  ret = ret.dtype.type(ret / rcount)\n"
     ]
    }
   ],
   "source": [
    "import os\n",
    "for filename in os.listdir('index_dataset/index_beetles/rel'):\n",
    "    file = open('index_dataset/index_beetles/rel/'+filename, 'r')\n",
    "    content = file.read()\n",
    "    lines = content.split('\\n')\n",
    "    #remove last element\n",
    "    lines = lines[:-1]\n",
    "    \n",
    "    for note in lines:\n",
    "        #first take the 16th order paa of the note\n",
    "        note = note.split(' ')\n",
    "        \n",
    "        if note == ['']:\n",
    "            continue\n",
    "        if len(note) < 3:\n",
    "            continue\n",
    "        elif len(note)>3 and len(note)<16:\n",
    "            continue\n",
    "        else:\n",
    "            note.pop()\n",
    "            note = [float(i) for i in note]\n",
    "            note = paa(note, 16)\n",
    "            try:\n",
    "                es.index(index=\"test2\", body={\"name\": filename, \"paa_16\": note})\n",
    "            except Exception as e:\n",
    "                continue\n",
    "            \n",
    "        \n",
    "        \n",
    "        \n",
    "    \n",
    "    "
   ]
  },
  {
   "cell_type": "code",
   "execution_count": 7,
   "metadata": {},
   "outputs": [
    {
     "name": "stdout",
     "output_type": "stream",
     "text": [
      "[]\n"
     ]
    },
    {
     "name": "stderr",
     "output_type": "stream",
     "text": [
      "C:\\Users\\soumil\\AppData\\Local\\Temp\\ipykernel_22424\\3529342300.py:9: ElasticsearchWarning: The kNN search API has been replaced by the `knn` option in the search API.\n",
      "  results = es.knn_search(index=\"test2\", knn=query, source=True)\n"
     ]
    }
   ],
   "source": [
    "#show the index\n",
    "query = {\n",
    "           \"field\": \"dense_vector_field\",\n",
    "            \"query_vector\": [0,1.2730118181818182, 0.3010893636363636, -0.5181818181818181, -1.053568181818182, -1.0633636363636365, -0.5374554545454546, 0.2816765363636364, 1.2399245454545456, 1.2639118181818183, 0.29585163636363637, -0.52199, -1.0546354545454546, -1.0591845454545454, -0.5086163636363636, 0.33206863636363637],\n",
    "            \"k\": 5,\n",
    "            \"num_candidates\": 10\n",
    "        }\n",
    "    \n",
    "results = es.knn_search(index=\"test2\", knn=query, source=True)\n",
    "print(results['hits']['hits'])"
   ]
  },
  {
   "cell_type": "code",
   "execution_count": 13,
   "metadata": {},
   "outputs": [
    {
     "name": "stdout",
     "output_type": "stream",
     "text": [
      "Predicting MIDI for user_input/query.wav...\n",
      "[-2.0, -2.0, 0.0, 0.0, 1.5, 2.0, 1.5, -2.0, -2.5, 13.0, -1.5, -14.0, 1.0, 1.5, 3.5, 3.0]\n"
     ]
    },
    {
     "name": "stderr",
     "output_type": "stream",
     "text": [
      "C:\\Users\\soumil\\AppData\\Local\\Temp\\ipykernel_22424\\2338202644.py:21: ElasticsearchWarning: The kNN search API has been replaced by the `knn` option in the search API.\n",
      "  results = es.knn_search(index=\"test2\", knn=query, source=True)\n"
     ]
    }
   ],
   "source": [
    "import numpy as np\n",
    "import feature_extraction.extract as extract\n",
    "\n",
    "# Your input file\n",
    "input_file = \"user_input/query.wav\"\n",
    "\n",
    "# Extract features\n",
    "absolute_pitch, relative_pitch, tempo = extract.extract(input_file, apitch=True, tempo=True, rpitch=True)\n",
    "\n",
    "# Perform PAA on relative_pitch\n",
    "paa_16 = paa(relative_pitch, 16)\n",
    "print(paa_16)\n",
    "\n",
    "query = {\n",
    "           \"field\": \"dense_vector_field\",\n",
    "            \"query_vector\": paa_16,\n",
    "            \"k\": 5,\n",
    "            \"num_candidates\": 10\n",
    "        }\n",
    "\n",
    "results = es.knn_search(index=\"test2\", knn=query, source=True)\n",
    "\n",
    "# Extract and print the results\n",
    "for hit in results['hits']['hits']:\n",
    "    source = hit['_source']\n",
    "    print(f\"Document ID: {hit['_id']}, Score: {hit['_score']}, Dense Vector: {source['dense_vector_field']}\")\n"
   ]
  }
 ],
 "metadata": {
  "kernelspec": {
   "display_name": "Python 3",
   "language": "python",
   "name": "python3"
  },
  "language_info": {
   "codemirror_mode": {
    "name": "ipython",
    "version": 3
   },
   "file_extension": ".py",
   "mimetype": "text/x-python",
   "name": "python",
   "nbconvert_exporter": "python",
   "pygments_lexer": "ipython3",
   "version": "3.10.0"
  }
 },
 "nbformat": 4,
 "nbformat_minor": 2
}
