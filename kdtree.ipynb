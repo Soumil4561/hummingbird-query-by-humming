{
 "cells": [
  {
   "cell_type": "code",
   "execution_count": 3,
   "metadata": {},
   "outputs": [],
   "source": [
    "import numpy as np\n",
    "def paa(x, w):\n",
    "    #w is the number of segments\n",
    "    #first calculate the length of the time series\n",
    "    n = len(x)\n",
    "    #now calculate the length of each segment\n",
    "    step = n/w\n",
    "    #now calculate the paa\n",
    "    paa = []\n",
    "    for i in range(w):\n",
    "        paa.append(np.mean(x[int(i*step):int((i+1)*step)]))\n",
    "    return paa\n",
    "\n",
    "\n",
    "def envelopes(X, k):\n",
    "    #first we recieve a time series X, and we compute the upper and lower envelope of X\n",
    "    env_lower = []\n",
    "    env_upper = []\n",
    "    \n",
    "    #calcalating lower envelope\n",
    "    for i in range(0, len(X)):\n",
    "        lowest = 1000\n",
    "        for j in range(-k,k+1):\n",
    "            if(i+j >= 0 and i+j < len(X)):\n",
    "                if(X[i+j] < lowest):\n",
    "                    lowest = X[i+j]\n",
    "        env_lower.append(lowest)\n",
    "    \n",
    "    #calcalating upper envelope\n",
    "    for i in range(0, len(X)):\n",
    "        highest = 0\n",
    "        for j in range(-k,k+1):\n",
    "            if(i+j >= 0 and i+j < len(X)):\n",
    "                if(X[i+j] > highest):\n",
    "                    highest = X[i+j]\n",
    "        env_upper.append(highest)\n",
    "    \n",
    "    return env_lower, env_upper"
   ]
  },
  {
   "cell_type": "code",
   "execution_count": 4,
   "metadata": {},
   "outputs": [
    {
     "name": "stdout",
     "output_type": "stream",
     "text": [
      "UCR tree is built\n"
     ]
    }
   ],
   "source": [
    "from scipy.spatial import KDTree\n",
    "import numpy as np\n",
    "import os\n",
    "\n",
    "ucr_segments = []\n",
    "for filename in os.listdir(\"./test_dataset/UCR\"):\n",
    "    f =open(\"./test_dataset/UCR/\" + filename + \"/\" + filename+\"_TEST\")\n",
    "    content = f.read()\n",
    "    content = content.split(\"\\n\")\n",
    "    content = content[0]\n",
    "    content = content.split(\",\")\n",
    "    content = content[1:]\n",
    "    content = list(map(float, content))\n",
    "    content = paa(content,4)\n",
    "    ucr_segments.append(content)\n",
    "    f.close()\n",
    "\n",
    "ucr_tree = KDTree(ucr_segments,leafsize=2, balanced_tree=True)\n",
    "print(\"UCR tree is built\")\n"
   ]
  },
  {
   "cell_type": "code",
   "execution_count": 5,
   "metadata": {},
   "outputs": [],
   "source": [
    "#generate a random time series\n"
   ]
  },
  {
   "cell_type": "code",
   "execution_count": 6,
   "metadata": {},
   "outputs": [
    {
     "name": "stderr",
     "output_type": "stream",
     "text": [
      "c:\\Users\\soumi\\AppData\\Local\\Programs\\Python\\Python310\\lib\\site-packages\\numpy\\core\\fromnumeric.py:3432: RuntimeWarning: Mean of empty slice.\n",
      "  return _methods._mean(a, axis=axis, dtype=dtype,\n",
      "c:\\Users\\soumi\\AppData\\Local\\Programs\\Python\\Python310\\lib\\site-packages\\numpy\\core\\_methods.py:190: RuntimeWarning: invalid value encountered in double_scalars\n",
      "  ret = ret.dtype.type(ret / rcount)\n",
      "c:\\Users\\soumi\\AppData\\Local\\Programs\\Python\\Python310\\lib\\site-packages\\pretty_midi\\pretty_midi.py:100: RuntimeWarning: Tempo, Key or Time signature change events found on non-zero tracks.  This is not a valid type 0 or type 1 MIDI file.  Tempo, Key or Time Signature may be wrong.\n",
      "  warnings.warn(\n"
     ]
    },
    {
     "name": "stdout",
     "output_type": "stream",
     "text": [
      "midi tree is built\n",
      "{0: 'ABBA_-_Chiquita.mid', 263: 'ABBA_-_Dancing_Queen.mid', 484: 'ABBA_-_Fernando.mid', 677: 'ABBA_-_Gimme_Gimme_Gimme.mid', 859: 'ABBA_-_Knowing_Me_Knowing_You.mid', 1078: 'ABBA_-_The_Winner_Takes_It_All.mid', 1352: 'ABBA_-_Waterloo.mid', 1498: 'Air_Supply_-_All_Out_Of_Love.mid', 1702: 'Air_Supply_-_Making_Love_Out_Of_Nothing.mid', 1990: 'Backstreet_Boys_-_As_Long_As_You_Love_Me.mid', 2160: 'Backstreet_Boys_-_I_Want_It_That_Way (1).mid', 2270: 'Backstreet_Boys_-_I_Want_It_That_Way.mid', 2380: 'Backstreet_Boys_-_Shape_of_My_Heart.mid', 2582: 'Billy_Joel_-_Piano_Man.mid', 2900: 'Billy_Joel_-_Uptown_Girl.mid', 3077: 'Boyzone_-_I_Love_The_Way_You_Love_Me.mid', 3284: 'Boyzone_-_Picture_Of_You.mid', 3416: 'Boyzone_-_Words.mid', 3641: 'Bruno_Mars_-_When_i_was_your_man.mid', 3830: 'Disney_Themes_-_Hakuna_Matata.mid', 3861: 'Disney_Themes_-_The_Sorcerer.mid', 3911: 'Eminem_-_My_Name_Is.mid', 4042: 'Eminem_-_Stan.mid', 4372: 'Eminem_-_Superman.mid', 4416: 'Eminem_-_The_Real_Slim_Shady.mid', 4666: 'Movie_Themes_-_Forrest_Gump.mid', 4710: 'Movie_Themes_-_James_Bond.mid', 4806: 'Movie_Themes_-_Mission_Impossible_-_by_Lalo_Schiffrin.mid', 4917: 'Movie_Themes_-_Mortal_Kombat.mid', 5064: 'Movie_Themes_-_Star_Wars_-_by_John_Willams.mid', 5073: 'National_Anthems_-_India.mid', 5189: 'one_direction_-_History.mid', 5345: 'one_direction_-_Night_Changes.mid', 5552: 'one_direction_-_What_Makes_You_Beautiful.mid', 5736: 'one_direction_-_You_and_I.mid', 5863: 'Queen_-_Bohemian_Rhapsody.mid', 5965: 'Queen_-_Crazy_Little_Thing_Called_Love.mid', 6119: 'Queen_-_i_want_to_break_free.mid', 6273: 'Queen_-_Killer_Queen.mid', 6444: 'Queen_-_Too_Much_Love_Will_Kill_You.mid', 6654: 'Queen_-_We_Are_The_Champions.mid', 6786: 'Sade_-_Smooth_Operator.mid', 7045: 'Sixpence_None_The_Richer_-_Kiss_Me.mid', 7220: \"Snoop_Dogg_-_What's_My_Name.mid\", 7508: 'Sonny_and_Cher_-_All_I_Ever_Need_Is_You.mid', 7598: 'Sonny_and_Cher_-_The_Beat_Goes_On.mid', 7790: 'The_Beatles_-_All_My_Loving.mid', 7897: 'The_Beatles_-_All_You_Need_Is_Love.mid', 8087: 'The_Beatles_-_A_Day_in_the_Life.mid', 8221: \"The_Beatles_-_A_Hard_Day's_Night.mid\", 8355: \"The_Beatles_-_Can't_Buy_Me_Love.mid\", 8461: 'The_Beatles_-_Come_Together.mid', 8724: 'The_Beatles_-_Day_Tripper.mid', 8896: 'The_Beatles_-_Drive_My_Car.mid', 9052: 'The_Beatles_-_Eight_Days_A_Week.mid', 9203: 'The_Beatles_-_Eleanor_Rigby.mid', 9245: 'The_Beatles_-_From_Me_to_You.mid', 9345: 'The_Beatles_-_Getting_Better.mid', 9488: 'The_Beatles_-_Get_Back.mid', 9650: 'The_Beatles_-_Got_to_Get_You_Into_My_Life.mid', 9772: 'The_Beatles_-_Hello_Goodbye.mid', 9951: 'The_Beatles_-_HELP!.mid', 10069: 'The_Beatles_-_Helter_Skelter.mid', 10245: 'The_Beatles_-_Here_Comes_the_Sun.mid', 10399: 'The_Beatles_-_Hey_Jude.mid', 10658: 'The_Beatles_-_In_My_Life.mid', 10798: 'The_Beatles_-_I_Am_the_Walrus.mid', 10925: 'The_Beatles_-_I_Feel_Fine.mid', 11045: 'The_Beatles_-_I_Saw_Her_Standing_There.mid', 11189: 'The_Beatles_-_I_Want_to_Hold_Your_Hand.mid', 11315: 'The_Beatles_-_Let_It_Be.mid', 11506: 'The_Beatles_-_Long_and_Winding_Road.mid', 11704: 'The_Beatles_-_Lucy_in_the_Sky_with_Diamonds.mid', 11830: 'The_Beatles_-_Norwegian_Wood_(This_Bird_Has_Flown).mid', 11944: 'The_Beatles_-_Nowhere_Man.mid', 12081: 'The_Beatles_-_Paperback_Writer.mid', 12222: 'The_Beatles_-_Penny_Lane.mid', 12372: 'The_Beatles_-_Please_Please_Me.mid', 12478: 'The_Beatles_-_Rain.mid', 12649: 'The_Beatles_-_Revolution_1.mid', 12891: 'The_Beatles_-_She_Loves_You.mid', 13024: 'The_Beatles_-_Something.mid', 13209: 'The_Beatles_-_Strawberry_Fields_Forever.mid', 13254: 'The_Beatles_-_Taxman.mid', 13391: 'The_Beatles_-_The_Ballad_of_John_and_Yoko.mid', 13565: 'The_Beatles_-_This_Boy.mid', 13711: 'The_Beatles_-_Ticket_to_Ride.mid', 13888: 'The_Beatles_-_Tomorrow_Never_Knows.mid', 14010: 'The_Beatles_-_Twist_and_Shout.mid', 14143: 'The_Beatles_-_We_Can_Work_It_Out.mid', 14274: 'The_Beatles_-_While_My_Guitar_Gently_Weeps.mid', 14492: 'The_Beatles_-_With_A_Little_Help_From_My_Friends.mid', 14630: 'The_Beatles_-_Yellow_Submarine.mid', 14718: 'The_Beatles_-_Yesterday.mid', 14829: \"The_Beatles_-_You've_Got_to_Hide_Your_Love_Away.mid\", 14931: 'The_Smiths_-_How_Soon_Is_Now.mid', 15325: 'Wild_Cherry_-_Play_That_Funky_Music.mid'}\n"
     ]
    }
   ],
   "source": [
    "import pretty_midi\n",
    "\n",
    "index = []\n",
    "files = {}\n",
    "counter = 0\n",
    "for filename in os.listdir(\"./test_dataset/dataset_100/\"):\n",
    "    files[counter] = filename\n",
    "    try:\n",
    "        midi_data = pretty_midi.PrettyMIDI(\"test_dataset/dataset_100/\" + filename)\n",
    "    except:\n",
    "        continue\n",
    "    song_duration = midi_data.get_end_time()\n",
    "    segment_duration = 15\n",
    "    tempo = midi_data.estimate_tempo()\n",
    " \n",
    "    \n",
    "    for i in range(0, int(song_duration) - segment_duration):\n",
    "        prev = 1\n",
    "        segment = []\n",
    "        for j in range(prev, len(midi_data.instruments[0].notes)):\n",
    "            note = midi_data.instruments[0].notes[j]\n",
    "            if note.start >= i and note.end <= i + segment_duration:\n",
    "                segment.append(note.pitch - midi_data.instruments[0].notes[j - 1].pitch)\n",
    "                #segment.append(note.pitch)\n",
    "        prev = j + 1\n",
    "        segment = paa(segment, 8)\n",
    "        #if segment contiain nan, skip it\n",
    "        if np.isnan(segment).any():\n",
    "            continue\n",
    "        counter += 1\n",
    "        index.append(segment)\n",
    "        # try:\n",
    "        #     midi_idx.insert(counter, (segment_4[0], segment_4[1], segment_4[2], segment_4[3]),obj=filename)\n",
    "        #     counter+=1\n",
    "        # except:\n",
    "        #     continue\n",
    "    \n",
    "    f.close()\n",
    "\n",
    "midi_tree = KDTree(index, leafsize=2)\n",
    "print(\"midi tree is built\")\n",
    "print(files)\n"
   ]
  },
  {
   "cell_type": "code",
   "execution_count": 13,
   "metadata": {},
   "outputs": [
    {
     "name": "stdout",
     "output_type": "stream",
     "text": [
      "Predicting MIDI for user_input/query.wav...\n"
     ]
    }
   ],
   "source": [
    "import feature_extraction.extract as extract\n",
    "import input_query.record as record\n",
    "#record_input = record.RecordQuery(15)\n",
    "absolute_pitch, relative_pitch, tempo = extract.extract(\"user_input/query.wav\", apitch=True, tempo=True, rpitch=True)\n",
    "paa_4 = paa(relative_pitch, 8)\n",
    "lower,upper = envelopes(relative_pitch, 10)\n",
    "paa_lower = paa(lower, 8)\n",
    "paa_upper = paa(upper, 8)\n",
    "\n",
    "#give the query to the tree between paa_lower and paa_upper\n",
    "dist,ind = midi_tree.query([paa_4],k=1000)\n"
   ]
  },
  {
   "cell_type": "code",
   "execution_count": 14,
   "metadata": {},
   "outputs": [
    {
     "name": "stdout",
     "output_type": "stream",
     "text": [
      "44\n",
      "[('Billy_Joel_-_Piano_Man.mid', 37), ('ABBA_-_Knowing_Me_Knowing_You.mid', 35), (\"Snoop_Dogg_-_What's_My_Name.mid\", 34), ('The_Beatles_-_Drive_My_Car.mid', 30), ('The_Beatles_-_Long_and_Winding_Road.mid', 25), ('The_Beatles_-_Helter_Skelter.mid', 25), ('The_Beatles_-_Twist_and_Shout.mid', 25), ('Eminem_-_The_Real_Slim_Shady.mid', 24), ('The_Smiths_-_How_Soon_Is_Now.mid', 21), ('Boyzone_-_I_Love_The_Way_You_Love_Me.mid', 21), ('Wild_Cherry_-_Play_That_Funky_Music.mid', 20), ('one_direction_-_What_Makes_You_Beautiful.mid', 20), ('The_Beatles_-_The_Ballad_of_John_and_Yoko.mid', 19), ('ABBA_-_The_Winner_Takes_It_All.mid', 19), ('The_Beatles_-_A_Day_in_the_Life.mid', 18), ('ABBA_-_Gimme_Gimme_Gimme.mid', 17), ('ABBA_-_Dancing_Queen.mid', 17), (\"The_Beatles_-_A_Hard_Day's_Night.mid\", 17), ('Movie_Themes_-_Mortal_Kombat.mid', 16), ('Queen_-_Too_Much_Love_Will_Kill_You.mid', 16), ('The_Beatles_-_Got_to_Get_You_Into_My_Life.mid', 16), ('The_Beatles_-_Eight_Days_A_Week.mid', 16), ('The_Beatles_-_Get_Back.mid', 16), ('Sonny_and_Cher_-_All_I_Ever_Need_Is_You.mid', 15), ('The_Beatles_-_Ticket_to_Ride.mid', 15), ('one_direction_-_History.mid', 15), ('The_Beatles_-_We_Can_Work_It_Out.mid', 15), ('Sonny_and_Cher_-_The_Beat_Goes_On.mid', 15), ('Queen_-_i_want_to_break_free.mid', 14), ('Sixpence_None_The_Richer_-_Kiss_Me.mid', 14), ('The_Beatles_-_I_Want_to_Hold_Your_Hand.mid', 14), ('The_Beatles_-_I_Feel_Fine.mid', 14), ('The_Beatles_-_Penny_Lane.mid', 13), ('The_Beatles_-_Revolution_1.mid', 13), ('The_Beatles_-_She_Loves_You.mid', 13), ('ABBA_-_Fernando.mid', 13), ('The_Beatles_-_I_Saw_Her_Standing_There.mid', 12), ('ABBA_-_Waterloo.mid', 12), ('The_Beatles_-_All_You_Need_Is_Love.mid', 12), ('Sade_-_Smooth_Operator.mid', 11), ('The_Beatles_-_Please_Please_Me.mid', 11), ('Bruno_Mars_-_When_i_was_your_man.mid', 11), ('Billy_Joel_-_Uptown_Girl.mid', 11), ('The_Beatles_-_Here_Comes_the_Sun.mid', 11)]\n"
     ]
    }
   ],
   "source": [
    "#now we have this ind matrix, we need to extract the file names\n",
    "#we can use the files dictionary\n",
    "\n",
    "#create a empty set\n",
    "song_list = {}\n",
    "for i in ind[0]:\n",
    "    #find i in files, if not found, find closest one before\n",
    "    if i in files:\n",
    "        if files[i] not in song_list:\n",
    "            song_list[files[i]] = 1\n",
    "        else:\n",
    "            song_list[files[i]] += 1\n",
    "    else:\n",
    "        for j in range(i,0,-1):\n",
    "            if j in files:\n",
    "                if files[j] not in song_list:\n",
    "                    song_list[files[j]] = 1\n",
    "                else:\n",
    "                    song_list[files[j]] += 1\n",
    "                break\n",
    "\n",
    "#sort the song dictionary by value descending\n",
    "sorted_song_list = sorted(song_list.items(), key=lambda kv: kv[1], reverse=True)\n",
    "\n",
    "#remove songs with less than 10 matches\n",
    "sorted_song_list = [i for i in sorted_song_list if i[1] >= 10]\n",
    "print(len(sorted_song_list))\n",
    "print(sorted_song_list)\n"
   ]
  },
  {
   "cell_type": "code",
   "execution_count": 15,
   "metadata": {},
   "outputs": [
    {
     "name": "stderr",
     "output_type": "stream",
     "text": [
      "c:\\Users\\soumi\\AppData\\Local\\Programs\\Python\\Python310\\lib\\site-packages\\pretty_midi\\pretty_midi.py:100: RuntimeWarning: Tempo, Key or Time signature change events found on non-zero tracks.  This is not a valid type 0 or type 1 MIDI file.  Tempo, Key or Time Signature may be wrong.\n",
      "  warnings.warn(\n"
     ]
    }
   ],
   "source": [
    "from fastdtw import fastdtw\n",
    "song_list = [i[0] for i in sorted_song_list]\n",
    "\n",
    "results = []\n",
    "for i in song_list:\n",
    "    midi_data = pretty_midi.PrettyMIDI(\"test_dataset/dataset_100/\" + i)\n",
    "    song_duration = midi_data.get_end_time()\n",
    "    segment_duration = 15\n",
    "    smallest=1000000\n",
    "    for j in range(0, int(song_duration) - segment_duration):\n",
    "        prev = 1\n",
    "        segment = []\n",
    "        for k in range(prev, len(midi_data.instruments[0].notes)):\n",
    "            note = midi_data.instruments[0].notes[k]\n",
    "            if note.start >= j and note.end <= j + segment_duration:\n",
    "                segment.append(note.pitch - midi_data.instruments[0].notes[k - 1].pitch)\n",
    "                #segment.append(note.pitch)\n",
    "        prev = k + 1\n",
    "        #if segment contiain nan, skip it\n",
    "        if np.isnan(segment).any():\n",
    "            continue\n",
    "        if len(segment)<4:\n",
    "            continue\n",
    "        distance, path = fastdtw(segment,relative_pitch)\n",
    "        if distance < smallest:\n",
    "            smallest= distance\n",
    "    results.append({\"filename\":i, \"distance\":smallest})\n",
    "results = sorted(results, key=lambda k: k['distance'])\n",
    "    "
   ]
  },
  {
   "cell_type": "code",
   "execution_count": 16,
   "metadata": {},
   "outputs": [
    {
     "name": "stdout",
     "output_type": "stream",
     "text": [
      "{'filename': 'one_direction_-_History.mid', 'distance': 74.0}\n",
      "{'filename': 'The_Beatles_-_We_Can_Work_It_Out.mid', 'distance': 74.0}\n",
      "{'filename': 'The_Smiths_-_How_Soon_Is_Now.mid', 'distance': 77.0}\n",
      "{'filename': 'Queen_-_Too_Much_Love_Will_Kill_You.mid', 'distance': 80.0}\n",
      "{'filename': 'The_Beatles_-_The_Ballad_of_John_and_Yoko.mid', 'distance': 81.0}\n",
      "{'filename': 'Sonny_and_Cher_-_All_I_Ever_Need_Is_You.mid', 'distance': 81.0}\n",
      "{'filename': 'Queen_-_i_want_to_break_free.mid', 'distance': 81.0}\n",
      "{'filename': 'The_Beatles_-_All_You_Need_Is_Love.mid', 'distance': 83.0}\n",
      "{'filename': 'The_Beatles_-_Here_Comes_the_Sun.mid', 'distance': 83.0}\n",
      "{'filename': 'Bruno_Mars_-_When_i_was_your_man.mid', 'distance': 84.0}\n",
      "{'filename': 'The_Beatles_-_Helter_Skelter.mid', 'distance': 85.0}\n",
      "{'filename': 'ABBA_-_Gimme_Gimme_Gimme.mid', 'distance': 85.0}\n",
      "{'filename': 'The_Beatles_-_Get_Back.mid', 'distance': 85.0}\n",
      "{'filename': 'The_Beatles_-_Penny_Lane.mid', 'distance': 85.0}\n",
      "{'filename': 'The_Beatles_-_She_Loves_You.mid', 'distance': 85.0}\n",
      "{'filename': 'The_Beatles_-_I_Want_to_Hold_Your_Hand.mid', 'distance': 86.0}\n",
      "{'filename': 'Billy_Joel_-_Uptown_Girl.mid', 'distance': 86.0}\n",
      "{'filename': 'The_Beatles_-_Revolution_1.mid', 'distance': 87.0}\n",
      "{'filename': 'The_Beatles_-_Got_to_Get_You_Into_My_Life.mid', 'distance': 92.0}\n",
      "{'filename': 'Boyzone_-_I_Love_The_Way_You_Love_Me.mid', 'distance': 93.0}\n",
      "{'filename': 'The_Beatles_-_Drive_My_Car.mid', 'distance': 95.0}\n",
      "{'filename': 'ABBA_-_Fernando.mid', 'distance': 95.0}\n",
      "{'filename': 'The_Beatles_-_I_Saw_Her_Standing_There.mid', 'distance': 96.0}\n",
      "{'filename': 'The_Beatles_-_Please_Please_Me.mid', 'distance': 96.0}\n",
      "{'filename': 'Movie_Themes_-_Mortal_Kombat.mid', 'distance': 100.0}\n",
      "{'filename': 'The_Beatles_-_I_Feel_Fine.mid', 'distance': 102.0}\n",
      "{'filename': 'Sonny_and_Cher_-_The_Beat_Goes_On.mid', 'distance': 109.0}\n",
      "{'filename': 'Eminem_-_The_Real_Slim_Shady.mid', 'distance': 112.0}\n",
      "{'filename': 'one_direction_-_What_Makes_You_Beautiful.mid', 'distance': 114.0}\n",
      "{'filename': 'The_Beatles_-_Twist_and_Shout.mid', 'distance': 116.0}\n",
      "{'filename': 'Wild_Cherry_-_Play_That_Funky_Music.mid', 'distance': 123.0}\n",
      "{'filename': 'The_Beatles_-_A_Day_in_the_Life.mid', 'distance': 131.0}\n",
      "{'filename': 'The_Beatles_-_Eight_Days_A_Week.mid', 'distance': 138.0}\n",
      "{'filename': 'ABBA_-_Knowing_Me_Knowing_You.mid', 'distance': 141.0}\n",
      "{'filename': 'The_Beatles_-_Long_and_Winding_Road.mid', 'distance': 157.0}\n",
      "{'filename': \"The_Beatles_-_A_Hard_Day's_Night.mid\", 'distance': 183.0}\n",
      "{'filename': 'ABBA_-_Waterloo.mid', 'distance': 184.0}\n",
      "{'filename': 'Billy_Joel_-_Piano_Man.mid', 'distance': 192.0}\n",
      "{'filename': 'The_Beatles_-_Ticket_to_Ride.mid', 'distance': 325.0}\n",
      "{'filename': 'ABBA_-_The_Winner_Takes_It_All.mid', 'distance': 383.0}\n",
      "{'filename': 'Sixpence_None_The_Richer_-_Kiss_Me.mid', 'distance': 480.0}\n",
      "{'filename': 'Sade_-_Smooth_Operator.mid', 'distance': 649.0}\n",
      "{'filename': \"Snoop_Dogg_-_What's_My_Name.mid\", 'distance': 827.0}\n",
      "{'filename': 'ABBA_-_Dancing_Queen.mid', 'distance': 1590.0}\n"
     ]
    }
   ],
   "source": [
    "for i in results:\n",
    "    print(i)"
   ]
  }
 ],
 "metadata": {
  "kernelspec": {
   "display_name": "Python 3",
   "language": "python",
   "name": "python3"
  },
  "language_info": {
   "codemirror_mode": {
    "name": "ipython",
    "version": 3
   },
   "file_extension": ".py",
   "mimetype": "text/x-python",
   "name": "python",
   "nbconvert_exporter": "python",
   "pygments_lexer": "ipython3",
   "version": "3.10.0"
  }
 },
 "nbformat": 4,
 "nbformat_minor": 2
}
