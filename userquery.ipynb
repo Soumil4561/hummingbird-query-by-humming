{
 "cells": [
  {
   "cell_type": "markdown",
   "metadata": {},
   "source": [
    "First we record a user input"
   ]
  },
  {
   "cell_type": "code",
   "execution_count": 37,
   "metadata": {},
   "outputs": [
    {
     "name": "stdout",
     "output_type": "stream",
     "text": [
      "Recording...\n",
      "Finished recording.\n"
     ]
    }
   ],
   "source": [
    "import pyaudio\n",
    "import wave\n",
    "import time\n",
    "\n",
    "# Audio settings\n",
    "sample_format = pyaudio.paInt16\n",
    "channels = 1  # Mono audio input\n",
    "sample_rate = 44100  # Standard sample rate (Hz)\n",
    "chunk_size = 1024  # Size of each audio chunk\n",
    "record_duration = 15  # Duration to record in seconds\n",
    "\n",
    "# Initialize PyAudio\n",
    "p = pyaudio.PyAudio()\n",
    "\n",
    "# Open an audio stream for input\n",
    "stream = p.open(format=sample_format,\n",
    "               channels=channels,\n",
    "               rate=sample_rate,\n",
    "               input=True,\n",
    "               frames_per_buffer=chunk_size)\n",
    "\n",
    "# Create an empty list to store the audio frames\n",
    "frames = []\n",
    "\n",
    "print(\"Recording...\")\n",
    "\n",
    "# Record audio for the specified duration\n",
    "start_time = time.time()\n",
    "while (time.time() - start_time) < record_duration:\n",
    "    data = stream.read(chunk_size)\n",
    "    frames.append(data)\n",
    "\n",
    "# Stop recording\n",
    "print(\"Finished recording.\")\n",
    "stream.stop_stream()\n",
    "stream.close()\n",
    "p.terminate()\n",
    "\n",
    "# Save the recorded audio data to a WAV file\n",
    "with wave.open(\"input.wav\", \"wb\") as wf:\n",
    "    wf.setnchannels(channels)\n",
    "    wf.setsampwidth(p.get_sample_size(sample_format))\n",
    "    wf.setframerate(sample_rate)\n",
    "    wf.writeframes(b\"\".join(frames))"
   ]
  },
  {
   "cell_type": "markdown",
   "metadata": {},
   "source": [
    "Using Spotify's Basic-Pitch for pitch estimation"
   ]
  },
  {
   "cell_type": "code",
   "execution_count": 40,
   "metadata": {},
   "outputs": [
    {
     "name": "stdout",
     "output_type": "stream",
     "text": [
      "Predicting MIDI for input.wav...\n"
     ]
    }
   ],
   "source": [
    "#convert wav to midi \n",
    "from basic_pitch.inference import predict\n",
    "from basic_pitch import ICASSP_2022_MODEL_PATH\n",
    "\n",
    "model_output, midi_data, note_events = predict(\"input.wav\", ICASSP_2022_MODEL_PATH)"
   ]
  },
  {
   "cell_type": "markdown",
   "metadata": {},
   "source": [
    "Saving the file"
   ]
  },
  {
   "cell_type": "code",
   "execution_count": 39,
   "metadata": {},
   "outputs": [],
   "source": [
    "#save the mid file\n",
    "def save_midi(midi_data, output_path):\n",
    "    with open(output_path, 'wb') as output_file:\n",
    "        midi_data.write(output_file)\n",
    "\n",
    "save_midi(midi_data, \"input.mid\")"
   ]
  },
  {
   "cell_type": "markdown",
   "metadata": {},
   "source": [
    "{Optional} Stretch(pad) the mid file"
   ]
  },
  {
   "cell_type": "code",
   "execution_count": 3,
   "metadata": {},
   "outputs": [],
   "source": [
    "import pretty_midi\n",
    "\n",
    "def stretch_midi(input_midi_file, output_midi_file, stretch_factor):\n",
    "    # Load the MIDI file\n",
    "    midi_data = pretty_midi.PrettyMIDI(input_midi_file)\n",
    "\n",
    "    # Stretch the timing of notes in each instrument\n",
    "    for instrument in midi_data.instruments:\n",
    "        for note in instrument.notes:\n",
    "            note.start *= stretch_factor\n",
    "            note.end *= stretch_factor\n",
    "\n",
    "    # Save the stretched MIDI file\n",
    "    midi_data.write(output_midi_file)\n",
    "\n",
    "    "
   ]
  },
  {
   "cell_type": "markdown",
   "metadata": {},
   "source": []
  },
  {
   "cell_type": "code",
   "execution_count": 22,
   "metadata": {},
   "outputs": [],
   "source": [
    "from fastdtw import fastdtw\n",
    "\n",
    "def get_dtw_distance(input_midi_data, output_midi_data):\n",
    "    input_pitches=[]\n",
    "    for note in input_midi_data.instruments[0].notes:\n",
    "        input_pitches.append(note.pitch)\n",
    "    segment_pitches=[]\n",
    "    for note in output_midi_data:\n",
    "        segment_pitches.append(note.pitch)\n",
    "    distance, path = fastdtw(input_pitches, segment_pitches)\n",
    "    \n",
    "    return distance\n"
   ]
  },
  {
   "cell_type": "code",
   "execution_count": 19,
   "metadata": {},
   "outputs": [
    {
     "name": "stdout",
     "output_type": "stream",
     "text": [
      "Comparing input with All_Out_Of_Love.1.mid...\n",
      "Distance: 195.0 Best segment: [Note(start=134.036523, end=134.053725, pitch=35, velocity=59), Note(start=134.311752, end=134.328954, pitch=51, velocity=53), Note(start=134.311752, end=134.328954, pitch=35, velocity=112), Note(start=134.862210, end=134.879412, pitch=51, velocity=22), Note(start=135.412668, end=135.429870, pitch=51, velocity=82), Note(start=135.963126, end=135.980328, pitch=51, velocity=43), Note(start=136.513584, end=136.530786, pitch=51, velocity=82), Note(start=136.513584, end=136.530786, pitch=35, velocity=124), Note(start=137.614500, end=137.631702, pitch=51, velocity=82), Note(start=138.715416, end=138.732618, pitch=51, velocity=82), Note(start=139.816332, end=139.833534, pitch=51, velocity=98), Note(start=140.917248, end=140.934450, pitch=51, velocity=36), Note(start=142.018164, end=142.035366, pitch=49, velocity=82), Note(start=142.018164, end=142.035366, pitch=35, velocity=124), Note(start=142.568622, end=142.585824, pitch=49, velocity=98)]\n",
      "Comparing input with Crawling.mid...\n",
      "Distance: 825.0 Best segment: [Note(start=0.000000, end=0.288461, pitch=73, velocity=96), Note(start=0.288461, end=1.153846, pitch=83, velocity=96), Note(start=1.153846, end=2.596153, pitch=80, velocity=96), Note(start=2.596153, end=3.173076, pitch=78, velocity=96), Note(start=3.173076, end=3.461538, pitch=76, velocity=96), Note(start=3.461538, end=4.038461, pitch=75, velocity=96), Note(start=4.038461, end=4.615384, pitch=76, velocity=96), Note(start=4.615384, end=4.903846, pitch=73, velocity=96), Note(start=4.903846, end=5.769230, pitch=83, velocity=96), Note(start=5.769230, end=7.211537, pitch=80, velocity=96), Note(start=7.211537, end=7.788460, pitch=78, velocity=96), Note(start=7.788460, end=8.076922, pitch=76, velocity=96), Note(start=8.076922, end=8.653845, pitch=75, velocity=96), Note(start=8.653845, end=9.230768, pitch=76, velocity=96), Note(start=9.230768, end=9.519229, pitch=73, velocity=96)]\n",
      "Comparing input with Danza_Ungherese_n._8_in_la_minore-Presto.mid...\n",
      "Distance: 292.0 Best segment: [Note(start=10.395833, end=10.611979, pitch=38, velocity=110), Note(start=10.901042, end=11.111979, pitch=43, velocity=110), Note(start=11.385417, end=11.611979, pitch=38, velocity=120), Note(start=11.888021, end=12.111979, pitch=43, velocity=110), Note(start=12.382812, end=12.611979, pitch=38, velocity=120), Note(start=12.893229, end=13.111979, pitch=43, velocity=110), Note(start=13.382812, end=13.611979, pitch=36, velocity=120), Note(start=13.893229, end=14.109375, pitch=43, velocity=110), Note(start=14.382812, end=14.609375, pitch=38, velocity=120), Note(start=16.893229, end=17.085938, pitch=38, velocity=75), Note(start=17.638021, end=17.835938, pitch=50, velocity=75), Note(start=17.898438, end=18.106771, pitch=43, velocity=85), Note(start=18.140625, end=18.361979, pitch=43, velocity=85), Note(start=18.395833, end=18.606771, pitch=31, velocity=120), Note(start=18.911458, end=19.104167, pitch=43, velocity=100)]\n",
      "Comparing input with Everybody_Backstreets_Back_.1.mid...\n",
      "Distance: 132.0 Best segment: [Note(start=28.752662, end=28.793175, pitch=54, velocity=49), Note(start=28.752662, end=28.888670, pitch=56, velocity=23), Note(start=28.891564, end=28.940758, pitch=54, velocity=90), Note(start=28.891564, end=28.981271, pitch=42, velocity=122), Note(start=28.891564, end=29.027572, pitch=36, velocity=114), Note(start=28.891564, end=29.027572, pitch=49, velocity=83), Note(start=29.030466, end=29.082554, pitch=54, velocity=42), Note(start=29.169367, end=29.204093, pitch=54, velocity=78), Note(start=29.169367, end=29.241712, pitch=56, velocity=59), Note(start=29.169367, end=29.244606, pitch=42, velocity=100), Note(start=29.169367, end=29.305375, pitch=80, velocity=127), Note(start=29.308269, end=29.383508, pitch=54, velocity=54), Note(start=29.308269, end=29.444277, pitch=56, velocity=23), Note(start=29.447171, end=29.490578, pitch=54, velocity=85), Note(start=29.447171, end=29.554241, pitch=42, velocity=114)]\n",
      "Comparing input with Its_OK.mid...\n",
      "Distance: 355.0 Best segment: [Note(start=73.693787, end=73.721877, pitch=42, velocity=45), Note(start=73.806147, end=73.834236, pitch=69, velocity=65), Note(start=73.827214, end=73.855304, pitch=42, velocity=90), Note(start=74.009798, end=74.037888, pitch=69, velocity=50), Note(start=74.030866, end=74.058955, pitch=42, velocity=45), Note(start=74.143225, end=74.171315, pitch=69, velocity=65), Note(start=74.164292, end=74.192382, pitch=42, velocity=60), Note(start=74.346877, end=74.374967, pitch=69, velocity=50), Note(start=74.367944, end=74.396034, pitch=42, velocity=45), Note(start=74.480304, end=74.508393, pitch=69, velocity=65), Note(start=74.501371, end=74.529461, pitch=46, velocity=90), Note(start=74.683955, end=74.712045, pitch=69, velocity=50), Note(start=74.817382, end=74.845472, pitch=69, velocity=95), Note(start=74.838449, end=74.866539, pitch=42, velocity=60), Note(start=75.021034, end=75.049124, pitch=69, velocity=50)]\n",
      "Comparing input with ThankYou.mid...\n",
      "Distance: 108.0 Best segment: [Note(start=211.500000, end=211.656250, pitch=54, velocity=28), Note(start=211.875000, end=212.031250, pitch=54, velocity=25), Note(start=212.250000, end=212.406250, pitch=54, velocity=25), Note(start=212.625000, end=212.781250, pitch=54, velocity=21), Note(start=213.000000, end=213.156250, pitch=54, velocity=18), Note(start=213.375000, end=213.531250, pitch=54, velocity=14), Note(start=213.750000, end=213.906250, pitch=54, velocity=12), Note(start=214.125000, end=214.281250, pitch=54, velocity=8), Note(start=214.500000, end=214.656250, pitch=54, velocity=7), Note(start=214.875000, end=215.031250, pitch=54, velocity=6), Note(start=215.250000, end=215.406250, pitch=54, velocity=3), Note(start=215.625000, end=215.781250, pitch=54, velocity=2), Note(start=216.000000, end=216.156250, pitch=54, velocity=2), Note(start=216.375000, end=216.531250, pitch=54, velocity=2), Note(start=216.750000, end=216.906250, pitch=54, velocity=2)]\n",
      "Comparing input with Words.mid...\n",
      "Distance: 93.0 Best segment: [Note(start=213.088322, end=213.635578, pitch=60, velocity=103), Note(start=213.088322, end=213.688932, pitch=55, velocity=100), Note(start=213.688932, end=213.759054, pitch=52, velocity=76), Note(start=213.909968, end=214.239236, pitch=50, velocity=100), Note(start=213.922163, end=214.359663, pitch=43, velocity=76), Note(start=213.909968, end=214.373383, pitch=59, velocity=91), Note(start=213.909968, end=214.382529, pitch=55, velocity=94), Note(start=214.323078, end=214.463322, pitch=50, velocity=72), Note(start=214.743809, end=215.012102, pitch=50, velocity=85), Note(start=214.743809, end=215.092895, pitch=55, velocity=91), Note(start=214.743809, end=215.103565, pitch=59, velocity=84), Note(start=214.518200, end=215.156919, pitch=43, velocity=66), Note(start=215.131004, end=215.281919, pitch=50, velocity=76), Note(start=215.571553, end=215.865760, pitch=60, velocity=103), Note(start=215.571553, end=215.874906, pitch=50, velocity=97)]\n"
     ]
    }
   ],
   "source": [
    "import os\n",
    "import pretty_midi\n",
    "\n",
    "#now we have to compare the recorded midi file with the original midi file\n",
    "input_midi_data = pretty_midi.PrettyMIDI(\"input.mid\")\n",
    "\n",
    "#for each midi file in the dataset\n",
    "for filename in os.listdir(\"test_dataset\"):\n",
    "    print(\"Comparing input with \" + filename + \"...\")\n",
    "    original_midi_data = pretty_midi.PrettyMIDI(\"test_dataset/\"+filename)\n",
    "\n",
    "    #cut the original midi file into segments of 15 seconds each\n",
    "    segment_duration = 15\n",
    "    best_segment = None\n",
    "    smallest = 1000000\n",
    "    for i in range(0, len(original_midi_data.instruments[0].notes)-segment_duration,segment_duration):\n",
    "        segment = original_midi_data.instruments[0].notes[i:i+segment_duration]\n",
    "        dist = get_dtw_distance(input_midi_data, segment)\n",
    "        if dist < smallest:\n",
    "            smallest = dist\n",
    "            best_segment = segment\n",
    "    print(\"Distance: \" + str(smallest) + \" Best segment: \" + str(best_segment))\n"
   ]
  },
  {
   "cell_type": "code",
   "execution_count": null,
   "metadata": {},
   "outputs": [],
   "source": []
  }
 ],
 "metadata": {
  "kernelspec": {
   "display_name": "Python 3",
   "language": "python",
   "name": "python3"
  },
  "language_info": {
   "codemirror_mode": {
    "name": "ipython",
    "version": 3
   },
   "file_extension": ".py",
   "mimetype": "text/x-python",
   "name": "python",
   "nbconvert_exporter": "python",
   "pygments_lexer": "ipython3",
   "version": "3.10.0"
  }
 },
 "nbformat": 4,
 "nbformat_minor": 2
}
