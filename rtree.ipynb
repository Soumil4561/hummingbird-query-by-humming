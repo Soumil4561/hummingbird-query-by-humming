{
 "cells": [
  {
   "cell_type": "code",
   "execution_count": 1,
   "metadata": {},
   "outputs": [],
   "source": [
    "import numpy as np\n",
    "def paa(x, w):\n",
    "    #w is the number of segments\n",
    "    #first calculate the length of the time series\n",
    "    n = len(x)\n",
    "    #now calculate the length of each segment\n",
    "    step = n/w\n",
    "    #now calculate the paa\n",
    "    paa = []\n",
    "    for i in range(w):\n",
    "        paa.append(np.mean(x[int(i*step):int((i+1)*step)]))\n",
    "    return paa\n",
    "    "
   ]
  },
  {
   "cell_type": "code",
   "execution_count": 58,
   "metadata": {},
   "outputs": [
    {
     "name": "stdout",
     "output_type": "stream",
     "text": [
      "[[2 1 0]]\n"
     ]
    }
   ],
   "source": [
    "from sklearn.neighbors import KDTree\n",
    "\n",
    "X= np.array([[1, 1,1,1], [2, 2,2,2], [3, 3,3,3]])\n",
    "tree = KDTree(X, leaf_size=2) \n",
    "dist, ind = tree.query([[4,4,4,4]], k=3)        \n",
    "print(ind)  # indices of 3 closest neighbors"
   ]
  },
  {
   "cell_type": "code",
   "execution_count": 33,
   "metadata": {},
   "outputs": [
    {
     "name": "stdout",
     "output_type": "stream",
     "text": [
      "[[-0.461969552238806, -0.76471, 1.1801809850746265, 0.05706313235294119], [-0.24725825000000004, 0.3130921818181818, -0.34955934090909097, 0.2837404090909091], [0.16850219354838705, -0.13239509523809523, -0.1953653492063492, 0.16192333333333334], [0.36032730341880337, 0.02708088305084746, 0.9155792256410256, -1.2921731440677968], [0.3909733671875, -0.4626831484374999, 0.548116765625, -0.47640924218749997], [0.02241166953125001, -0.49304124609375, 0.6490567578124999, -0.17842823437499994], [-0.20108214236111113, 0.4216050625, -0.5483521326388889, 0.32557117241379313], [-0.34735034374999996, 1.247591, -0.45301916875000003, -0.44722590624999997], [0.6034848536585368, -0.2636030476190476, -0.23779721951219512, -0.0933704761904762], [0.5945058924205379, -0.41260005512195125, -0.33271322858536584, 0.1522578184634146], [-0.49381297605633817, 0.5692430555555554, 0.6104339000000002, -0.6842403472222222], [-0.5962179999999999, 0.25842977777777787, 0.9436506666666667, -0.6058819999999999], [0.07183129333333334, -0.8779317333333334, -0.21198034533333335, 1.0180750666666667], [-0.009188777333333316, 0.12719049333333332, 0.17058798093333333, -0.2885885013333333], [0.12607044, 0.9541012666666666, -0.20559421333333333, -0.8745758666666668], [-0.14070272441860468, 0.09728249999999997, -0.08390803488372095, 0.12586777011494255], [0.6339405, 0.4276955, -0.152126374, -0.9095029000000002], [0.6339405, 0.4276955, -0.152126374, -0.9095029000000002], [0.7306987, 0.6168390499999999, -0.24508285000000002, -1.1023999999999998], [0.19950085937499998, 0.03597437500000004, -0.07655812499999998, -0.15891945312499997], [0.08237583333333336, -0.63106, 0.47068891666666673, 0.07799754166666666], [-0.17272280000000004, 0.1486534, 0.3820380514285714, -0.3579711428571429], [0.060069139117647066, -0.5745836785294118, 0.6090335802941177, -0.094519655], [0.5886408333333334, -0.19621, -0.19621, -0.19621], [-0.06269834374999994, -0.01862399999999997, 0.1061479090909091, -0.02672047878787879], [0.006269986206896567, 0.06656417159090909, 0.01669297356321838, -0.08926348863636363], [-0.162575109375, 0.12140139393939396, -0.10697878787878792, 0.1432263333333333], [0.0907385443478261, -0.060359232758620644, -0.09318543965517243, 0.0635909655172414], [-0.033153136000000014, -0.06032994399999999, 0.14247452640000002, -0.048989175999999995], [0.046245072, -0.074886584, 0.0654043368, -0.036757072800000005], [-0.9266481081081084, 0.9697611052631576, 0.8889429459459461, -0.9330494736842108], [-0.19328489252336453, -0.13982102777777777, 0.6352271851851852, -0.30390795370370366], [-0.7019201911373708, 0.501283611846381, 0.8416948596750369, -0.640112402359882], [-0.87882136007326, -0.4531085575091575, 1.0871466437362638, 0.24478026410256404], [-0.16063988203125001, 0.09137432890625002, 0.15014945546874997, -0.08088401562500004], [-0.3432942061702128, -0.6316438428874734, 0.5550165553191492, 0.4203694692144374], [1.149533875, 0.005942265156250001, -0.41965567187499997, -0.73581828125], [-0.676645, -0.09730666666666661, -0.19688333333333338, 0.9708448333333334], [-0.14465116666666666, -0.14481883333333334, -0.14465116666666666, 0.43413725000000003], [-0.5869481886792453, 0.21466369748427674, 0.7346298949685534, -0.36008246125], [-0.764677240506329, 0.30574244875, 0.9172356624999999, -0.4678427375], [0.6933407148437499, -0.3354643515625, -0.65892097265625, 0.301043808203125], [-0.20562508035714286, -0.16541818303571426, 1.00840585625, -0.6373640089285715], [0.9789367916666668, -0.19077071999999998, -0.3249824, -0.42402880000000004], [0.5654688, 0.6604431, -0.23921135000000007, -0.986707], [0.5654688, 0.6604431, -0.23921135000000007, -0.986707], [0.7281310999999999, 0.5962324999999999, -0.2598195, -1.0645999999999998], [-0.14927375238095236, 1.1080742857142856, -0.0007300000000000349, -0.9580752380952381], [-0.028946769518716615, 0.6897709255319149, -0.5533918181818183, -0.11052876276595747], [0.018561091443850274, 0.6635766021276596, -0.6065100534759359, -0.07875227234042555]]\n"
     ]
    }
   ],
   "source": [
    "import os\n",
    "from rtree import index\n",
    "p = index.Property(dimension=4)\n",
    "ucr_idx = index.Index(property=p)\n",
    "\n",
    "\n",
    "counter=0\n",
    "segments =[]\n",
    "for filename in os.listdir(\"./test_dataset/UCR\"):\n",
    "    f =open(\"./test_dataset/UCR/\" + filename + \"/\" + filename+\"_TEST\")\n",
    "    content = f.read()\n",
    "    content = content.split(\"\\n\")\n",
    "    content = content[0]\n",
    "    content = content.split(\",\")\n",
    "    content = content[1:]\n",
    "    content = list(map(float, content))\n",
    "    paa_4 = paa(content, 4)\n",
    "    #ucr_idx.insert(counter, (paa_4[0], paa_4[1], paa_4[2], paa_4[3]),obj=filename)\n",
    "    segments.append(paa_4)\n",
    "    counter+=1\n",
    "    \n",
    "    f.close()\n",
    "\n",
    "print(segments)\n",
    "tree1 = KDTree(segments, leaf_size=2,metric='l2')\n",
    "\n",
    "\n"
   ]
  },
  {
   "cell_type": "code",
   "execution_count": 41,
   "metadata": {},
   "outputs": [
    {
     "name": "stdout",
     "output_type": "stream",
     "text": [
      "50\n",
      "[[0.12433397 0.14390158 0.21001938 0.23943045 0.29465042 0.3057488\n",
      "  0.32366134 0.34967826 0.35077368 0.3553244  0.41740888 0.43934262\n",
      "  0.48645236 0.59745352 0.69868245 0.74794486 0.74865941 0.75340884\n",
      "  0.76348432 0.8380186  0.9118388  0.95826323 1.01935695 1.02156938\n",
      "  1.0266748  1.10511633 1.11187113 1.12990499 1.13354356 1.18716888\n",
      "  1.24375253 1.24375253 1.25808982 1.29729321 1.34090137 1.35515354\n",
      "  1.35515354 1.357251   1.39128003 1.40958185 1.41172375 1.44603668\n",
      "  1.46216495 1.47254766 1.4725523  1.50938034 1.59430865 1.63297734\n",
      "  1.78058188 1.90851764]]\n"
     ]
    }
   ],
   "source": [
    "#now we have the index, we can search for the nearest neighbor\n",
    "#first we need to create the query\n",
    "f = open(\"./test_dataset/UCR/Adiac/Adiac_TEST\")       \n",
    "content = f.read()\n",
    "content = content.split(\"\\n\")\n",
    "content = content[4]\n",
    "content = content.split(\",\")\n",
    "content = content[1:]\n",
    "content = list(map(float, content))\n",
    "paa_4 = paa(content, 4)\n",
    "f.close()\n",
    "\n",
    "dist, ind = tree1.query([paa_4], k=50)\n",
    "print(len(ind[0]))  # indices of 3 closest neighbors\n",
    "print(dist)  # distances to 3 closest neighbors    \n",
    "\n",
    "# #now we can search for the nearest neighbor\n",
    "# res = es.search(index=\"paa\", \n",
    "#                 body={\"knn\":{\"field\": \"paa\",\"query_vector\": paa_4,\"k\": 4,\"num_candidates\": 10},\n",
    "#                       \"fields\":[\"label\"]})\n",
    "\n",
    "# for hit in res[\"hits\"][\"hits\"]:\n",
    "#     print(hit[\"_source\"][\"label\"]+\" \"+str(hit[\"_score\"]))"
   ]
  },
  {
   "cell_type": "code",
   "execution_count": 48,
   "metadata": {},
   "outputs": [
    {
     "name": "stdout",
     "output_type": "stream",
     "text": [
      "['euclidean', 'l2', 'minkowski', 'p', 'manhattan', 'cityblock', 'l1', 'chebyshev', 'infinity']\n"
     ]
    }
   ],
   "source": [
    "mappings ={\n",
    "    \"mappings\": {\n",
    "        \"properties\": {\n",
    "            \"midi_paa\": {\n",
    "                \"type\": \"dense_vector\",\n",
    "                \"dims\": 16,\n",
    "                \"similarity\": \"l2_norm\"\n",
    "            },\n",
    "            \"label\": {\n",
    "                \"type\": \"keyword\"\n",
    "            }\n",
    "        }\n",
    "    }\n",
    "}"
   ]
  },
  {
   "cell_type": "code",
   "execution_count": 64,
   "metadata": {},
   "outputs": [
    {
     "name": "stderr",
     "output_type": "stream",
     "text": [
      "C:\\Users\\SP Singh\\AppData\\Local\\Packages\\PythonSoftwareFoundation.Python.3.10_qbz5n2kfra8p0\\LocalCache\\local-packages\\Python310\\site-packages\\numpy\\core\\fromnumeric.py:3432: RuntimeWarning: Mean of empty slice.\n",
      "  return _methods._mean(a, axis=axis, dtype=dtype,\n",
      "C:\\Users\\SP Singh\\AppData\\Local\\Packages\\PythonSoftwareFoundation.Python.3.10_qbz5n2kfra8p0\\LocalCache\\local-packages\\Python310\\site-packages\\numpy\\core\\_methods.py:190: RuntimeWarning: invalid value encountered in double_scalars\n",
      "  ret = ret.dtype.type(ret / rcount)\n",
      "C:\\Users\\SP Singh\\AppData\\Local\\Packages\\PythonSoftwareFoundation.Python.3.10_qbz5n2kfra8p0\\LocalCache\\local-packages\\Python310\\site-packages\\pretty_midi\\pretty_midi.py:100: RuntimeWarning: Tempo, Key or Time signature change events found on non-zero tracks.  This is not a valid type 0 or type 1 MIDI file.  Tempo, Key or Time Signature may be wrong.\n",
      "  warnings.warn(\n"
     ]
    },
    {
     "name": "stdout",
     "output_type": "stream",
     "text": [
      "{'The_Beatles_-_All_My_Loving.mid': 99, 'The_Beatles_-_All_You_Need_Is_Love.mid': 265, 'The_Beatles_-_A_Day_in_the_Life.mid': 392, \"The_Beatles_-_A_Hard_Day's_Night.mid\": 526, \"The_Beatles_-_Can't_Buy_Me_Love.mid\": 625, 'The_Beatles_-_Come_Together.mid': 886, 'The_Beatles_-_Day_Tripper.mid': 1051, 'The_Beatles_-_Drive_My_Car.mid': 1207, 'The_Beatles_-_Eight_Days_A_Week.mid': 1358, 'The_Beatles_-_Eleanor_Rigby.mid': 1358, 'The_Beatles_-_From_Me_to_You.mid': 1458, 'The_Beatles_-_Getting_Better.mid': 1590, 'The_Beatles_-_Get_Back.mid': 1717, 'The_Beatles_-_Got_to_Get_You_Into_My_Life.mid': 1839, 'The_Beatles_-_Hello_Goodbye.mid': 2012, 'The_Beatles_-_HELP!.mid': 2129, 'The_Beatles_-_Helter_Skelter.mid': 2283, 'The_Beatles_-_Here_Comes_the_Sun.mid': 2393, 'The_Beatles_-_Hey_Jude.mid': 2601, 'The_Beatles_-_In_My_Life.mid': 2733, 'The_Beatles_-_I_Am_the_Walrus.mid': 2839, 'The_Beatles_-_I_Feel_Fine.mid': 2957, 'The_Beatles_-_I_Saw_Her_Standing_There.mid': 3099, 'The_Beatles_-_I_Want_to_Hold_Your_Hand.mid': 3225, 'The_Beatles_-_Let_It_Be.mid': 3401, 'The_Beatles_-_Long_and_Winding_Road.mid': 3599, 'The_Beatles_-_Lucy_in_the_Sky_with_Diamonds.mid': 3704, 'The_Beatles_-_Norwegian_Wood_(This_Bird_Has_Flown).mid': 3813, 'The_Beatles_-_Nowhere_Man.mid': 3950, 'The_Beatles_-_Paperback_Writer.mid': 4091, 'The_Beatles_-_Penny_Lane.mid': 4226, 'The_Beatles_-_Please_Please_Me.mid': 4332, 'The_Beatles_-_Rain.mid': 4431, 'The_Beatles_-_Revolution_1.mid': 4665, 'The_Beatles_-_She_Loves_You.mid': 4796, 'The_Beatles_-_Something.mid': 4978, 'The_Beatles_-_Strawberry_Fields_Forever.mid': 4999, 'The_Beatles_-_Taxman.mid': 5108, 'The_Beatles_-_The_Ballad_of_John_and_Yoko.mid': 5282, 'The_Beatles_-_This_Boy.mid': 5428, 'The_Beatles_-_Ticket_to_Ride.mid': 5605, 'The_Beatles_-_Tomorrow_Never_Knows.mid': 5706, 'The_Beatles_-_Twist_and_Shout.mid': 5839, 'The_Beatles_-_We_Can_Work_It_Out.mid': 5967, 'The_Beatles_-_While_My_Guitar_Gently_Weeps.mid': 6136, 'The_Beatles_-_With_A_Little_Help_From_My_Friends.mid': 6265, 'The_Beatles_-_Yellow_Submarine.mid': 6341, 'The_Beatles_-_Yesterday.mid': 6440, \"The_Beatles_-_You've_Got_to_Hide_Your_Love_Away.mid\": 6535}\n"
     ]
    }
   ],
   "source": [
    "import os \n",
    "import pretty_midi\n",
    "\n",
    "# p = index.Property(dimension=4)\n",
    "# midi_idx = index.Index(property=p)\n",
    "\n",
    "index = []\n",
    "files = {}\n",
    "counter = 0\n",
    "for filename in os.listdir(\"./test_dataset/dataset_beetles/\"):\n",
    "    try:\n",
    "        midi_data = pretty_midi.PrettyMIDI(\"test_dataset/dataset_beetles/\" + filename)\n",
    "    except:\n",
    "        continue\n",
    "    song_duration = midi_data.get_end_time()\n",
    "    segment_duration = 15\n",
    "    tempo = midi_data.estimate_tempo()\n",
    " \n",
    "    \n",
    "    for i in range(0, int(song_duration) - segment_duration):\n",
    "        prev = 1\n",
    "        segment = []\n",
    "        for j in range(prev, len(midi_data.instruments[0].notes)):\n",
    "            note = midi_data.instruments[0].notes[j]\n",
    "            if note.start > i and note.end < i + segment_duration:\n",
    "                #segment.append(note.pitch - midi_data.instruments[0].notes[j - 1].pitch)\n",
    "                segment.append(round(note.pitch,2))\n",
    "        prev = j + 1\n",
    "        segment = paa(segment, 16)\n",
    "        #if segment contiain nan, skip it\n",
    "        if np.isnan(segment).any():\n",
    "            continue\n",
    "        counter += 1\n",
    "        index.append(segment)\n",
    "        # try:\n",
    "        #     midi_idx.insert(counter, (segment_4[0], segment_4[1], segment_4[2], segment_4[3]),obj=filename)\n",
    "        #     counter+=1\n",
    "        # except:\n",
    "        #     continue\n",
    "    files[filename] = counter\n",
    "    f.close()\n",
    "\n",
    "midi_tree = KDTree(index, leaf_size=2,metric='l2')\n",
    "print(files)\n",
    "        "
   ]
  },
  {
   "cell_type": "code",
   "execution_count": 66,
   "metadata": {},
   "outputs": [
    {
     "name": "stdout",
     "output_type": "stream",
     "text": [
      "Predicting MIDI for user_input/query.wav...\n",
      "[[4468 4620 4534 4469 4621 4533 4467 4532 4535 4622 4470 4619 4536 4626\n",
      "  4623 4538 4473 4625 4557 4472 4537 4474 4539 4558 4624 4466 4618 4475\n",
      "  4627 4471 4556 4540 4559 4561 4541 2676 2628 4631 4543 4478 4630 4476\n",
      "  4629 4542 4477 2714 2716 4544 4479 2677 2629 4628 4560 4555 2715 4487\n",
      "  4553 4617 4531 4545 4552 4486 4554 4480 4632 2627 2675 4546 2713 4562\n",
      "  2647 4638 2678 2630 4481 4563 4488 4639 4633 4483 2626 2674 4637 4485\n",
      "  4547 4482 2722 4548 4551 4640 2717 4635 4465 4530 2679 2631 4489 4634\n",
      "  2683 2635]]\n",
      "[[123.02641993 123.02641993 123.91327612 123.91327612 123.93143266\n",
      "  124.23163848 124.54818345 124.54818345 124.77279351 124.78281132\n",
      "  124.78281132 125.13392825 127.97460686 128.55187021 128.56807535\n",
      "  128.62639698 129.13849155 129.13849155 129.19462063 129.2091328\n",
      "  129.2091328  129.2211713  129.2211713  129.25190736 129.29037087\n",
      "  129.44400334 129.44400334 129.44883159 129.44883159 129.49903475\n",
      "  129.55382837 129.75596754 130.02136577 130.48403478 130.71193944\n",
      "  130.74784893 130.74784893 130.86814823 131.05066874 131.07631365\n",
      "  131.07631365 131.14845278 131.1497236  131.15480675 131.15480675\n",
      "  131.31545987 131.33925537 131.38609346 131.38609346 131.38778482\n",
      "  131.38778482 131.39898951 131.71423191 131.74280499 131.83986499\n",
      "  132.0179912  132.09182412 132.19776851 132.19776851 132.22445143\n",
      "  132.535949   132.621747   132.62635485 132.65148573 132.65148573\n",
      "  132.67441351 132.67441351 132.67776336 132.7120944  132.96198287\n",
      "  133.22349643 133.26196006 133.30416348 133.30416348 133.32802073\n",
      "  133.43693891 133.50665818 133.65440509 133.69970498 133.72941171\n",
      "  133.73855091 133.73855091 133.7542315  133.7542315  133.81517104\n",
      "  133.81517104 133.83385222 133.86643426 133.87431917 133.93468557\n",
      "  133.96268137 133.97232301 134.11562176 134.11562176 134.16035182\n",
      "  134.16035182 134.28586837 134.30427725 134.40145089 134.40145089]]\n"
     ]
    }
   ],
   "source": [
    "import feature_extraction.extract as extract\n",
    "absolute_pitch, relative_pitch, tempo = extract.extract(\"user_input/query.wav\", apitch=True, tempo=True, rpitch=True)\n",
    "paa_4 = paa(relative_pitch, 16)\n",
    "dist, ind = midi_tree.query([paa_4], k=100)\n",
    "print(ind)\n",
    "print(dist)\n"
   ]
  }
 ],
 "metadata": {
  "kernelspec": {
   "display_name": "Python 3",
   "language": "python",
   "name": "python3"
  },
  "language_info": {
   "codemirror_mode": {
    "name": "ipython",
    "version": 3
   },
   "file_extension": ".py",
   "mimetype": "text/x-python",
   "name": "python",
   "nbconvert_exporter": "python",
   "pygments_lexer": "ipython3",
   "version": "3.10.11"
  }
 },
 "nbformat": 4,
 "nbformat_minor": 2
}
